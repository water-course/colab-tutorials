{
 "cells": [
  {
   "cell_type": "markdown",
   "id": "7258cb2d",
   "metadata": {},
   "source": [
    "Tutorial: Working with Shapefiles and NetCDF in Python\n",
    "========\n",
    "This tutorial introduces key geospatial analysis workflows using Python:\n",
    "- Reading shapefiles and converting to `shapely` geometries\n",
    "- Testing if coordinates fall inside polygons\n",
    "- Visualising spatial data and geographic boundaries\n",
    "- Reading and analysing gridded NetCDF rainfall datasets\n",
    "- Creating spatial masks and integrating values over regions\n",
    "\n",
    "We’ll focus on the Murray-Darling Basin (MDB) as a case study."
   ]
  },
  {
   "cell_type": "markdown",
   "id": "512fc9ae",
   "metadata": {
    "lines_to_next_cell": 0
   },
   "source": [
    "### Import Required Libraries\n",
    "\n",
    "We begin by importing essential Python libraries:\n",
    "\n",
    "- `numpy` for numerical operations\n",
    "- `netCDF4` for handling NetCDF files\n",
    "- `matplotlib.pyplot` for plotting\n",
    "- `pyshp` (via `shapefile.Reader`) for shapefiles\n",
    "- `shapely.geometry` to convert and operate on vector shapes"
   ]
  },
  {
   "cell_type": "code",
   "execution_count": null,
   "id": "1b809b3f",
   "metadata": {
    "lines_to_next_cell": 0,
    "tags": [
     "empty-cell"
    ]
   },
   "outputs": [],
   "source": [
    "# Import numpy, netCDF4, matplotlib.pyplot, shapefile Reader, and shapely.geometry Point and shape"
   ]
  },
  {
   "cell_type": "markdown",
   "id": "d6f24c2a",
   "metadata": {
    "lines_to_next_cell": 0
   },
   "source": [
    "###  Load and Convert Shapefiles to Geometry\n",
    "For this tutorial, we will use the MDB boundaries shapefile. Download the shapefiles from <a href=\"https://data.gadopt.org/water-course/MDB_boundaries.zip\" download>here</a> and unzip it in the current directory.  Use `Reader()` to load two shapefiles for the MDB: one for the **north** and one for the **south**.\n",
    "Convert each to a `shapely` geometry object so we can do spatial queries.\n",
    "\n",
    "This enables operations like containment tests (`Point.within(polygon)`, i.e., if a point is inside a polygon).\n"
   ]
  },
  {
   "cell_type": "code",
   "execution_count": null,
   "id": "77cef618",
   "metadata": {
    "lines_to_next_cell": 0,
    "tags": [
     "empty-cell"
    ]
   },
   "outputs": [],
   "source": [
    "# Load north and south MDB shapefiles and convert each to a shapely shape"
   ]
  },
  {
   "cell_type": "markdown",
   "id": "5fc98f15",
   "metadata": {
    "lines_to_next_cell": 0
   },
   "source": [
    "### Check if a Point Lies Within the Basin\n",
    "\n",
    "Check if the point (151°E, 29°S) lies in either basin.\n",
    "`Point().within(polygon)` returns `True` if the point lies *inside* the shape."
   ]
  },
  {
   "cell_type": "code",
   "execution_count": null,
   "id": "290eb242",
   "metadata": {
    "lines_to_next_cell": 0,
    "tags": [
     "empty-cell"
    ]
   },
   "outputs": [],
   "source": [
    "# Use Point.within() to test if (151, -29) is in the north or south MDB"
   ]
  },
  {
   "cell_type": "markdown",
   "id": "4c706080",
   "metadata": {},
   "source": [
    "### Plot Basin Boundaries and Test Coordinate\n",
    "Extract the coordinate arrays from the shapefiles and plot them.\n",
    "Overlay the test point to confirm visually."
   ]
  },
  {
   "cell_type": "code",
   "execution_count": null,
   "id": "55c3c6c7",
   "metadata": {
    "lines_to_next_cell": 0,
    "tags": [
     "empty-cell"
    ]
   },
   "outputs": [],
   "source": [
    "# Extract shapefile coordinates, plot north and south boundaries, and add test point"
   ]
  },
  {
   "cell_type": "markdown",
   "id": "c3a9f2a2",
   "metadata": {
    "lines_to_next_cell": 0
   },
   "source": [
    "### Load and Explore Rainfall Data\n",
    "Download the `rain_day_2025.nc`, which is the amount of rain on 27th of July 2025 as downloaded from BoM, from <a href=\"https://data.gadopt.org/water-course/rain_day_2025.nc\" download>here</a>. This file is in NetCDF format, which is a common format for gridded data. If you want to learn more about NetCDF, you can read the <a href=\"https://pro.arcgis.com/en/pro-app/latest/help/data/multidimensional/what-is-netcdf-data.htm\" target=\"_blank\">NetCDF Quick Start Guide</a>.\n",
    "Open the `rain_day_2025.nc` NetCDF file and extract:\n",
    "- Rainfall values\n",
    "- Latitude/longitude grids\n",
    "- Time axis (convert to years)\n",
    "\n",
    "NetCDF is ideal for gridded data like daily rainfall."
   ]
  },
  {
   "cell_type": "code",
   "execution_count": null,
   "id": "71d98dfc",
   "metadata": {
    "lines_to_next_cell": 0,
    "tags": [
     "empty-cell"
    ]
   },
   "outputs": [],
   "source": [
    "# Load NetCDF file and extract rain_day, lats, lons, and converted time"
   ]
  },
  {
   "cell_type": "markdown",
   "id": "eefb1551",
   "metadata": {
    "lines_to_next_cell": 0
   },
   "source": [
    "### Create Spatial Masks for Each Basin\n",
    "We want to isolate grid cells that fall within the MDB.\n",
    "Loop through the lat/lon grid and use `Point.within()` to assign `True` to cells inside the north or south basin.\n"
   ]
  },
  {
   "cell_type": "code",
   "execution_count": null,
   "id": "7a5f9080",
   "metadata": {
    "lines_to_next_cell": 0,
    "tags": [
     "empty-cell"
    ]
   },
   "outputs": [],
   "source": [
    "# Build boolean masks for NMDB and SMDB based on which grid points fall inside each"
   ]
  },
  {
   "cell_type": "markdown",
   "id": "4fbe459e",
   "metadata": {
    "lines_to_next_cell": 0
   },
   "source": [
    "### Plot the Mask to Verify Coverage\n",
    "Combine the north and south masks, and plot to confirm the shape of the coverage.\n"
   ]
  },
  {
   "cell_type": "code",
   "execution_count": null,
   "id": "55c6977f",
   "metadata": {
    "lines_to_next_cell": 0,
    "tags": [
     "empty-cell"
    ]
   },
   "outputs": [],
   "source": [
    "# Combine north/south masks and plot the result"
   ]
  },
  {
   "cell_type": "markdown",
   "id": "6170b672",
   "metadata": {
    "lines_to_next_cell": 0
   },
   "source": [
    "### Visualise Rainfall for a Single Day\n",
    "Mask the rainfall data at one time step (e.g. day 0) using the MDB mask.\n",
    "This reveals only the rainfall within the basin."
   ]
  },
  {
   "cell_type": "code",
   "execution_count": null,
   "id": "5c49a49e",
   "metadata": {
    "lines_to_next_cell": 0,
    "tags": [
     "empty-cell"
    ]
   },
   "outputs": [],
   "source": [
    "# Apply spatial mask to rain_day[0] and plot the result"
   ]
  },
  {
   "cell_type": "markdown",
   "id": "1d64748e",
   "metadata": {
    "lines_to_next_cell": 0
   },
   "source": [
    "### Integrate Rainfall Over Time\n",
    "Calculate the spatially averaged rainfall over the MDB at each time step.\n",
    "This gives a time series of total rainfall."
   ]
  },
  {
   "cell_type": "code",
   "execution_count": null,
   "id": "fb1c03d2",
   "metadata": {
    "lines_to_next_cell": 0,
    "tags": [
     "empty-cell"
    ]
   },
   "outputs": [],
   "source": [
    "# Loop over time to compute daily average rainfall over MDB"
   ]
  },
  {
   "cell_type": "markdown",
   "id": "e45b4ddf",
   "metadata": {
    "lines_to_next_cell": 0
   },
   "source": [
    "### Plot Time Series of Integrated Rainfall\n",
    "Finally, plot the time series of total MDB rainfall to observe temporal patterns."
   ]
  },
  {
   "cell_type": "code",
   "execution_count": null,
   "id": "cead951e",
   "metadata": {
    "lines_to_next_cell": 0,
    "tags": [
     "empty-cell"
    ]
   },
   "outputs": [],
   "source": [
    "# Plot rainfall time series vs time"
   ]
  },
  {
   "cell_type": "markdown",
   "id": "650e2c6b",
   "metadata": {},
   "source": [
    "### ✅ Extensions\n",
    "To go further, try:\n",
    "- Integrating rainfall separately for NMDB and SMDB\n",
    "- Comparing trends or seasonal cycles between them\n",
    "- Exporting the rainfall time series to CSV for reporting"
   ]
  }
 ],
 "metadata": {
  "jupytext": {
   "cell_metadata_filter": "tags,-all",
   "main_language": "python",
   "notebook_metadata_filter": "-all"
  }
 },
 "nbformat": 4,
 "nbformat_minor": 5
}
