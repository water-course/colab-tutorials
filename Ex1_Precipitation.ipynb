{
 "cells": [
  {
   "cell_type": "markdown",
   "id": "2803c6b1",
   "metadata": {},
   "source": [
    "Exercises precipitation\n",
    "=====\n",
    "## Tutorial: Interpolate missing values\n",
    "\n",
    "---\n",
    "\n",
    "Note: I have used the material by [**Jesús Casado Rodríguez**](https://github.com/casadoj) for this tutorial. If you ever had the time, please check out his [repository](https://github.com/casadoj/Clases.git) for more material.\n",
    "\n",
    "---\n",
    "\n",
    "The figure shows the location of 11 precipitation gauges in a research\n",
    "watershed. Measurements are missing at gauge F for a rain storm. Use\n",
    "the records from the other gauges (shown in the following table) to\n",
    "fill the gap in the rainfall amount in gauge F.\n",
    "\n",
    "<img src=\"image/RainGauges.png\" alt=\"Mountain View\" style=\"width:300px\">\n",
    "\n",
    "The file *RainfallData_Exercise_001.csv* contains the rainfall data.\n",
    "\n",
    "| Gauge | X      | Y       | Average Annual Precip. (mm) | Measured Storm Precip. (mm) |\n",
    "|------|--------|---------|-----------------------------|-----------------------------|\n",
    "| C    | 385014 | 4778553 | 1404                        | 11.6                        |\n",
    "| D    | 389634 | 4779045 | 1433                        | 14.8                        |\n",
    "| E    | 380729 | 4775518 | 1665                        | 13.3                        |\n",
    "| F    | 387259 | 4776670 | 1137                        | -                           |\n",
    "| G    | 389380 | 4776484 | 1235                        | 12.3                        |\n",
    "| H    | 382945 | 4772356 | 1114                        | 11.5                        |\n",
    "| I    | 386399 | 4771795 | 1101                        | 11.6                        |\n",
    "| J    | 388397 | 4772419 | 1086                        | 11.2                        |\n",
    "| K    | 389287 | 4771097 | 1010                        | 9.7                         |"
   ]
  },
  {
   "cell_type": "markdown",
   "id": "ff9a586b",
   "metadata": {},
   "source": [
    "#### Methods:\n",
    "[1.1 The station-average method](#The-station-average-method)<br>\n",
    "[1.2 The normal-ratio method](#The-normal-ration-method)<br>\n",
    "[1.3 The inverse distance method](#The-inverse-distance-method)<br>"
   ]
  },
  {
   "cell_type": "markdown",
   "id": "b983ccfa",
   "metadata": {},
   "source": [
    "Missing data completion methods and interpolation methods are\n",
    "both based in the following general interpolation equation:\n",
    "\n",
    "$$\\hat{p_o} = \\sum_{i=1}^{n} w_i·p_i$$\n",
    "\n",
    "Where $\\hat{p_o}$ is the rainfall value to be filled or interpolated, $n$\n",
    "is the number of gauges used to interpolate, $w_i$ and $p_i$ are the\n",
    "weighting factor and the rainfall value in each of those gauges.\n",
    "The weighting is determined in each case by the way we think it is appropriate\n",
    "to relate the unknown values to the known measurements."
   ]
  },
  {
   "cell_type": "code",
   "execution_count": null,
   "id": "d9fdfcbb",
   "metadata": {},
   "outputs": [],
   "source": [
    "import numpy as np\n",
    "\n",
    "import pandas as pd\n",
    "\n",
    "from matplotlib import pyplot as plt\n",
    "import seaborn as sns\n",
    "sns.set()\n",
    "sns.set_context('notebook')"
   ]
  },
  {
   "cell_type": "markdown",
   "id": "27b2a09e",
   "metadata": {},
   "source": [
    "### Import data\n",
    "*Pandas* is often the go-to library for dealing with spreadsheets and data because it provides:\n",
    "1. **Easy data import**: Read CSV, Excel, JSON, SQL databases with simple functions like pd.read_csv()\n",
    "2. **DataFrame structure**: 2D labeled data structure with rows and columns, similar to Excel spreadsheets\n",
    "3. **Powerful indexing**: Access data by position (.iloc) or labels (.loc) with intuitive syntax\n",
    "4. **Built-in data analysis**: Statistical functions (mean, std, describe), grouping, pivoting\n",
    "5. **Data cleaning**: Handle missing values, data types, duplicates with specialized methods\n",
    "6. **Integration**: Works seamlessly with NumPy for calculations and Matplotlib/Seaborn for visualization\n",
    "7. **Performance**: Optimized C code under the hood for fast operations on large datasets\n",
    "8. **Flexibility**: Easy to reshape, merge, join, and transform data for analysis workflows\n",
    "Now import data using *pandas* and save it in an object (*data frame* using pandas terminology)."
   ]
  },
  {
   "cell_type": "code",
   "execution_count": null,
   "id": "1b176553",
   "metadata": {
    "tags": [
     "empty-cell"
    ]
   },
   "outputs": [],
   "source": [
    "# Import RainfallData_Exercise_001.csv through pandas\n",
    "#"
   ]
  },
  {
   "cell_type": "markdown",
   "id": "739f709d",
   "metadata": {},
   "source": [
    "*DataFrames* have several built-in attributes that provide useful information about the data structure. For example, you can access the dimensions of the table (`shape`), the total number of elements (`size`), the row and column labels (`index` and `columns`), or convert the data to a *NumPy array* (`values`).\n",
    "To access an attribute of a `DataFrame` object (e.g., `data1`), use the syntax: `data1.attribute`, where `attribute` is the specific property you want to retrieve (e.g., `shape`, `size`, `index`, `columns`, `values`)."
   ]
  },
  {
   "cell_type": "code",
   "execution_count": null,
   "id": "86d7318a",
   "metadata": {
    "lines_to_next_cell": 0,
    "tags": [
     "empty-cell"
    ]
   },
   "outputs": [],
   "source": [
    "# Explore the DataFrame attributes to understand the structure of your data\n",
    "# Try accessing shape, size, index, columns, and values attributes\n",
    "#"
   ]
  },
  {
   "cell_type": "markdown",
   "id": "e2a853fc",
   "metadata": {
    "lines_to_next_cell": 0
   },
   "source": [
    "**Exercise: Exploring DataFrame Methods**\n",
    "\n",
    "In addition to attributes, pandas DataFrames provide numerous methods for data analysis and manipulation. These methods are essential tools for understanding and working with your dataset.\n",
    "\n",
    "**Key Methods to Explore:**\n",
    "- `describe()`: Provides comprehensive statistical summary (count, mean, std, min, max, quartiles)\n",
    "- `mean()`: Calculates the arithmetic mean of numerical columns\n",
    "- `head(n)`: Shows the first n rows (default n=5)\n",
    "- `tail(n)`: Shows the last n rows (default n=5)\n",
    "- `info()`: Displays DataFrame information (data types, memory usage, non-null counts)\n",
    "\n",
    "**Syntax:** To apply a method to a DataFrame, use: `DataFrame.method_name()`\n",
    "\n",
    "**Note:** Methods with parentheses `()` perform actions, while attributes without parentheses provide information."
   ]
  },
  {
   "cell_type": "code",
   "execution_count": null,
   "id": "0fd35ea8",
   "metadata": {
    "lines_to_next_cell": 0,
    "tags": [
     "empty-cell"
    ]
   },
   "outputs": [],
   "source": [
    "# Print a summary of the files, mean and the first few columns of the dataset\n",
    "#"
   ]
  },
  {
   "cell_type": "markdown",
   "id": "48135edd",
   "metadata": {
    "lines_to_next_cell": 0
   },
   "source": [
    "**Data Selection and Extraction**\n",
    "\n",
    "To access specific data points or subsets from a DataFrame, you need to specify both row and column identifiers. pandas provides two powerful indexing methods for this purpose:\n",
    "\n",
    "**Label-based indexing (`.loc`):**\n",
    "- Uses row and column labels/names for selection\n",
    "- More intuitive when working with meaningful row/column names\n",
    "- Syntax: `DataFrame.loc[row_label, column_label]`\n",
    "\n",
    "**Integer-based indexing (`.iloc`):**\n",
    "- Uses integer positions (0-based indexing) for selection\n",
    "- Useful when you know the position but not the label\n",
    "- **Important:** Python uses 0-based indexing, so the first row/column is at position 0, not 1\n",
    "- Syntax: `DataFrame.iloc[row_position, column_position]`\n",
    "\n",
    "**Direct column access:** You can also access entire columns using bracket notation: `DataFrame['column_name']`\n",
    "\n",
    "**Exercise:** In the next cell, practice these indexing methods by extracting specific data points and subsets from your DataFrame.\n",
    "Extract using .loc"
   ]
  },
  {
   "cell_type": "code",
   "execution_count": null,
   "id": "9ac6f9d0",
   "metadata": {
    "lines_to_next_cell": 0,
    "tags": [
     "empty-cell"
    ]
   },
   "outputs": [],
   "source": [
    "# Practice the different indexing methods shown above:\n",
    "# - Use .loc to extract data by row/column labels\n",
    "# - Use .iloc to extract data by integer positions\n",
    "# - Use bracket notation to extract entire columns\n",
    "# Try accessing different combinations of rows and columns"
   ]
  },
  {
   "cell_type": "markdown",
   "id": "98cb701b",
   "metadata": {
    "lines_to_next_cell": 0
   },
   "source": [
    "It is also easy to adjust the column names for them to be more representative, or even easy to use in coding."
   ]
  },
  {
   "cell_type": "code",
   "execution_count": null,
   "id": "02d43659",
   "metadata": {
    "lines_to_next_cell": 0,
    "tags": [
     "empty-cell"
    ]
   },
   "outputs": [],
   "source": [
    "# Simplify column names\n",
    "# d: 'Distance from gauge F (km)'\n",
    "# P: Average Annual Precip. (mm)\n",
    "# p: Measured Storm Precip. (mm)\n",
    "#"
   ]
  },
  {
   "cell_type": "markdown",
   "id": "cad29b51",
   "metadata": {},
   "source": [
    "### The station-average method\n",
    "\n",
    "In this method, we assume that rainfall in the target point is the average rainfall in the surrounding gauges.\n",
    "\n",
    "Following the general equation, we give the same weight $w_i$ to every gauge.\n",
    "\n",
    "$$w_i=\\frac{1}{n}$$\n",
    "\n",
    "$$\\hat{p_o} = \\frac{1}{n}\\sum_{i=1}^{n} p_i$$\n",
    "\n",
    "where $n$ is the number of gauges.v"
   ]
  },
  {
   "cell_type": "code",
   "execution_count": null,
   "id": "1bf2df9b",
   "metadata": {
    "lines_to_next_cell": 0,
    "tags": [
     "empty-cell"
    ]
   },
   "outputs": [],
   "source": [
    "# Calculate the mean of the 'p' column\n",
    "#"
   ]
  },
  {
   "cell_type": "markdown",
   "id": "73cf2f5e",
   "metadata": {},
   "source": [
    "**Limitation of Using All Available Gauges**\n",
    "\n",
    "While using all available gauges provides a simple average, this approach has a significant limitation: it may include data from stations that are too far from the target point to be representative of local rainfall patterns. Distant stations may have different climatic conditions or topographic influences that make their rainfall measurements irrelevant for the target location.\n",
    "\n",
    "**Improved Approach: Quadrant Method**\n",
    "\n",
    "To address this limitation, hydrologists often use a more sophisticated approach: selecting only the closest gauge in each of the four quadrants (northwest, northeast, southwest, southeast) around the target point. This ensures that:\n",
    "- We capture spatial variability in rainfall patterns\n",
    "- We avoid undue influence from distant, potentially irrelevant stations\n",
    "- We maintain a balanced spatial distribution around the target point"
   ]
  },
  {
   "cell_type": "code",
   "execution_count": null,
   "id": "194d3a32",
   "metadata": {
    "lines_to_next_cell": 0,
    "tags": [
     "empty-cell"
    ]
   },
   "outputs": [],
   "source": [
    "# Calculate the mean of the 'p' column for the closest gauges\n",
    "#"
   ]
  },
  {
   "cell_type": "markdown",
   "id": "5e179afd",
   "metadata": {
    "lines_to_next_cell": 0
   },
   "source": [
    "### The Normal-Ratio Method\n",
    "\n",
    "The normal-ratio method is a more sophisticated approach that accounts for the climatological differences between stations. It recognizes that stations with similar long-term rainfall patterns are more likely to have similar short-term rainfall during a specific storm event.\n",
    "\n",
    "**Concept:** The normal-ratio is the ratio of long-term average annual precipitation between the target point and each reference gauge:\n",
    "\n",
    "$$NR_i = \\frac{P_o}{P_i}$$\n",
    "\n",
    "Where:\n",
    "- $P_o$ = Annual precipitation at the target point (station F)\n",
    "- $P_i$ = Annual precipitation at reference gauge $i$\n",
    "- $NR_i$ = Normal ratio for gauge $i$\n",
    "\n",
    "**Methodology:** This ratio serves as a correction factor that adjusts the weights in the station-average method. Stations with similar climatological conditions (normal ratio close to 1) receive higher weights, while stations with different rainfall patterns receive lower weights.\n",
    "\n",
    "**Weighted Formula:**\n",
    "$$w_i = \\frac{1}{n}\\frac{P_o}{P_i} = \\frac{1}{n}NR_i$$\n",
    "\n",
    "**Final Estimation:**\n",
    "$$\\hat{p_o} = \\frac{1}{n}\\sum_{i=1}^{n} \\frac{P_o}{P_i} p_i$$\n",
    "\n",
    "This approach provides more accurate estimates by giving greater weight to stations that are climatologically similar to the target location."
   ]
  },
  {
   "cell_type": "code",
   "execution_count": null,
   "id": "85192c24",
   "metadata": {
    "lines_to_next_cell": 0,
    "tags": [
     "empty-cell"
    ]
   },
   "outputs": [],
   "source": [
    "# Calculate the normal ratio between station F and the rest of the stations\n",
    "#"
   ]
  },
  {
   "cell_type": "markdown",
   "id": "8a45cde7",
   "metadata": {
    "lines_to_next_cell": 0
   },
   "source": [
    "Next, we multiply, for each station, the **normal ratio** by the measured precipitation in the storm."
   ]
  },
  {
   "cell_type": "code",
   "execution_count": null,
   "id": "0fe88257",
   "metadata": {
    "lines_to_next_cell": 0,
    "tags": [
     "empty-cell"
    ]
   },
   "outputs": [],
   "source": [
    "# Multiply the storm rainfall by the normal ratio\n",
    "#"
   ]
  },
  {
   "cell_type": "markdown",
   "id": "9e2c2c4f",
   "metadata": {
    "lines_to_next_cell": 0
   },
   "source": [
    "We can also apply the normal-ratio method to the closest gauge in each quadrant"
   ]
  },
  {
   "cell_type": "code",
   "execution_count": null,
   "id": "f8037ca7",
   "metadata": {
    "lines_to_next_cell": 0,
    "tags": [
     "empty-cell"
    ]
   },
   "outputs": [],
   "source": [
    "# Calculate the normal-ratio method for the closest gauges\n",
    "#"
   ]
  },
  {
   "cell_type": "markdown",
   "id": "2dc1d9cf",
   "metadata": {},
   "source": [
    "### The Inverse Distance Method\n",
    "\n",
    "The inverse distance method is based on a fundamental principle in spatial analysis: **closer objects are more similar than distant ones**. This is particularly true for rainfall, where nearby stations are more likely to experience similar weather patterns.\n",
    "\n",
    "**Key Concept:** In this method, we assume that gauges closer to the target point are more representative of its rainfall. The weights are calculated as the inverse of the distance raised to a power.\n",
    "\n",
    "**Mathematical Foundation:**\n",
    "$$w_i = \\frac{d_{i}^{-b}}{\\sum_{i=1}^{n}d_{i}^{-b}}$$\n",
    "\n",
    "**Final Estimation:**\n",
    "$$\\hat{p_o} = \\sum_{i=1}^{n}\\frac{d_{i}^{-b}}{\\sum_{i=1}^{n}d_{i}^{-b}}·p_i = \\frac{1}{\\sum_{i=1}^{n}d_{i}^{-b}}\\sum_{i=1}^{n}d_{i}^{-b}·p_i$$\n",
    "\n",
    "**Parameters:**\n",
    "- $d_i$ = Distance between gauge $i$ and target point\n",
    "- $b$ = Power exponent (chosen by the modeler)\n",
    "\n",
    "**Common Practice:** A squared power ($b=-2$) is typically used, known as the \"squared inverse distance method.\" The larger the exponent, the more weight is given to closer gauges.\n",
    "\n",
    "**Coding Tip:** Don't worry if the math looks complex at first! We'll break it down step by step in the code. The key is to understand that we're giving more importance to nearby stations."
   ]
  },
  {
   "cell_type": "code",
   "execution_count": null,
   "id": "8f82a703",
   "metadata": {
    "lines_to_next_cell": 0,
    "tags": [
     "empty-cell"
    ]
   },
   "outputs": [],
   "source": [
    "# Calculate the distance between the target point and the rest of the stations\n",
    "#"
   ]
  },
  {
   "cell_type": "markdown",
   "id": "2a587506",
   "metadata": {
    "lines_to_next_cell": 0
   },
   "source": [
    "**Step-by-Step Implementation (b=-1)**\n",
    "\n",
    "Let's implement the inverse distance method step by step. This approach helps you understand each component before putting it all together. Don't be afraid to experiment with different values and see how they affect the results!"
   ]
  },
  {
   "cell_type": "code",
   "execution_count": null,
   "id": "34dca139",
   "metadata": {
    "lines_to_next_cell": 0,
    "tags": [
     "empty-cell"
    ]
   },
   "outputs": [],
   "source": [
    "# Set the exponent\n",
    "#"
   ]
  },
  {
   "cell_type": "markdown",
   "id": "58d8eff0",
   "metadata": {
    "lines_to_next_cell": 0
   },
   "source": [
    "__$b=-2$ shortened__\n"
   ]
  },
  {
   "cell_type": "code",
   "execution_count": null,
   "id": "12033b47",
   "metadata": {
    "lines_to_next_cell": 0,
    "tags": [
     "empty-cell"
    ]
   },
   "outputs": [],
   "source": [
    "# Calculate the inverse distance with b=-2 (squared inverse distance)\n",
    "# This is the most commonly used method in practice\n",
    "#"
   ]
  },
  {
   "cell_type": "markdown",
   "id": "81660ebc",
   "metadata": {
    "lines_to_next_cell": 0
   },
   "source": [
    "Again, we can apply the inverse distance method only to the closest station per quadrant."
   ]
  },
  {
   "cell_type": "code",
   "execution_count": null,
   "id": "2f43a336",
   "metadata": {
    "lines_to_next_cell": 0,
    "tags": [
     "empty-cell"
    ]
   },
   "outputs": [],
   "source": [
    "# Apply the inverse distance method using only the closest gauges in each quadrant\n",
    "# This combines the benefits of both spatial proximity and balanced sampling\n",
    "#"
   ]
  },
  {
   "cell_type": "markdown",
   "id": "7651b60e",
   "metadata": {
    "lines_to_next_cell": 0
   },
   "source": [
    "**Comparison of Methods**\n",
    "Now let's compare all the methods we've implemented! This is where the fun begins - you can see how different approaches give different results. Don't be surprised if the values differ; this is normal and expected in hydrological analysis.\n",
    "\n",
    "**What to look for:**\n",
    "- Which methods give similar results?\n",
    "- Which methods give very different results?\n",
    "- Think about why these differences occur\n",
    "\n",
    "**Coding Tip:** This comparison is a great example of how coding helps us analyze multiple approaches quickly. In the old days, this would take hours of manual calculation!\n"
   ]
  },
  {
   "cell_type": "code",
   "execution_count": null,
   "id": "bbf02329",
   "metadata": {
    "lines_to_next_cell": 0,
    "tags": [
     "empty-cell"
    ]
   },
   "outputs": [],
   "source": [
    "# Create a comparison of all methods by:\n",
    "# 1. Creating an array with all results\n",
    "# 2. Creating a bar plot to visualize the differences\n",
    "# 3. Saving the plot for later use"
   ]
  },
  {
   "cell_type": "code",
   "execution_count": null,
   "id": "5a79ba23",
   "metadata": {
    "lines_to_next_cell": 0,
    "tags": [
     "empty-cell"
    ]
   },
   "outputs": [],
   "source": [
    "# Convert the results to a DataFrame and export to CSV:\n",
    "# 1. Create a DataFrame with proper row and column labels\n",
    "# 2. Transpose the DataFrame for better organization\n",
    "# 3. Export the results to a CSV file for future reference\n",
    "#"
   ]
  },
  {
   "cell_type": "markdown",
   "id": "5cfb033c",
   "metadata": {},
   "source": [
    "### Spatial Interpolation: Creating Precipitation Maps\n",
    "**Exciting Part Alert!** 🎉 Now we're going to create actual precipitation maps! This is where coding becomes really powerful - we can visualise our results across an entire area, not just at single points.\n",
    "\n",
    "**What we'll do:**\n",
    "- Create a function that can interpolate rainfall at any point\n",
    "- Apply this function to a grid of points\n",
    "- Generate a beautiful precipitation map\n",
    "\n",
    "**Why this matters:** In real hydrological work, you often need to estimate rainfall across entire watersheds, not just at individual points. This is exactly how modern hydrological software works!\n",
    "\n",
    "We'll create a Python function that performs Inverse Distance Weighting (IDW) interpolation. Functions are like reusable tools - once you create one, you can use it over and over again!"
   ]
  },
  {
   "cell_type": "code",
   "execution_count": null,
   "id": "2deed683",
   "metadata": {
    "lines_to_end_of_cell_marker": 0,
    "lines_to_next_cell": 0
   },
   "outputs": [],
   "source": [
    "def IDW(x, y, stnX, stnY, stnP, b=-2):\n",
    "    \"\"\"Interpolate by the inverse distance weighted method\n",
    "\n",
    "    **Coding Tip:** This is your first function! Functions are like recipes - you give them ingredients (parameters) and they give you back a result. Once you understand this pattern, you can create functions for almost anything!\n",
    "\n",
    "    **What this function does:** Takes a point (x,y) and estimates rainfall there based on nearby stations.\n",
    "\n",
    "    Parameters:\n",
    "    ----------\n",
    "    x:       float. Coordinate X of the target point\n",
    "    y:       float. Coordinate Y of the target point\n",
    "    stnX:    Series. Coordinates X of the gauges\n",
    "    stnY:    Series. Coordinates Y of the gauges\n",
    "    stnP:    Series. Observed precipitation in the gauges\n",
    "    b:       int. Exponent in the inverse distance (default -2)\n",
    "\n",
    "    Returns:\n",
    "    --------\n",
    "    p:       float. Precipitation interpolated for point (x, y)\n",
    "    \"\"\"\n",
    "\n",
    "    # distance to the target point\n",
    "    distX = x - stnX                    # distance along the x axis\n",
    "    distY = y - stnY                    # distance along the y axis\n",
    "    dist = np.sqrt(distX**2 + distY**2)  # total distance\n",
    "    # inverse of the distance\n",
    "    idw = dist**b\n",
    "    # interpolate\n",
    "    p = np.sum(idw / np.sum(idw) * stnP)\n",
    "\n",
    "    return round(p, 1)"
   ]
  },
  {
   "cell_type": "markdown",
   "id": "bdd6e216",
   "metadata": {
    "lines_to_next_cell": 0
   },
   "source": [
    "**Testing Our Function**\n",
    "Let's test our function on point F to make sure it works correctly. This is a great coding practice - always test your functions before using them extensively!"
   ]
  },
  {
   "cell_type": "code",
   "execution_count": null,
   "id": "e16c39c9",
   "metadata": {
    "lines_to_next_cell": 0,
    "tags": [
     "empty-cell"
    ]
   },
   "outputs": [],
   "source": [
    "# Test the IDW function on point F to verify it works correctly\n",
    "# This helps us catch any errors before applying it to the entire grid\n",
    "#"
   ]
  },
  {
   "cell_type": "markdown",
   "id": "3ed6082e",
   "metadata": {
    "lines_to_next_cell": 0
   },
   "source": [
    "**Creating a Grid for Interpolation**\n",
    "Now the exciting part! We'll create a grid of points and apply our function to each one. This is how we generate a complete precipitation map.v\n",
    "**Coding Tip:** This is where loops become powerful - we can apply the same calculation to hundreds of points automatically!"
   ]
  },
  {
   "cell_type": "code",
   "execution_count": null,
   "id": "d2bfe388",
   "metadata": {
    "lines_to_next_cell": 0
   },
   "outputs": [],
   "source": [
    "# Coordinates X and Y of the grid\n",
    "xo, xf = 382200, 390200\n",
    "X = np.arange(xo, xf, 100)\n",
    "yo, yf = 4771400, 4779400\n",
    "Y = np.arange(yo, yf, 100)"
   ]
  },
  {
   "cell_type": "markdown",
   "id": "e86e4ed1",
   "metadata": {
    "lines_to_next_cell": 0
   },
   "source": [
    "**Building the Precipitation Map**\n",
    "We'll create an empty array to store our results, then fill it with interpolated values. This is a common pattern in scientific computing!\n"
   ]
  },
  {
   "cell_type": "code",
   "execution_count": null,
   "id": "d7a3c9c8",
   "metadata": {
    "lines_to_next_cell": 0,
    "tags": [
     "empty-cell"
    ]
   },
   "outputs": [],
   "source": [
    "# Create the precipitation map by:\n",
    "# 1. Creating an empty array to store results\n",
    "# 2. Using nested loops to apply IDW to each grid point\n",
    "# 3. This will generate a complete precipitation surface\n",
    "#"
   ]
  },
  {
   "cell_type": "markdown",
   "id": "45d881f7",
   "metadata": {
    "lines_to_next_cell": 0
   },
   "source": [
    "**The Magic Loop!**\n",
    "This nested loop applies our IDW function to every point in the grid. Don't worry if it takes a moment - we're doing hundreds of calculations!\n",
    "\n",
    "interpolate rainfall in each cell of the grid\n",
    "for i, y in enumerate(Y[::-1]):  # important to invert the position of 'Y'\n",
    "    for j, x in enumerate(X):\n",
    "        pcp[i, j] = IDW(x, y, data1_.X, data1_.Y, data1_.p, b=-2)\n",
    "print(f\"Precipitation map created with shape: {pcp.shape}\")"
   ]
  },
  {
   "cell_type": "markdown",
   "id": "aa11ffd5",
   "metadata": {
    "lines_to_next_cell": 0
   },
   "source": [
    "**Visualising Our Results**\n",
    "\n",
    "Now for the most rewarding part - creating a beautiful visualization! This is where all our coding work pays off with a professional-looking map.\n",
    "\n",
    "**Coding Tip:** Visualization is crucial in scientific work. A good plot can communicate more than pages of numbers!"
   ]
  },
  {
   "cell_type": "code",
   "execution_count": null,
   "id": "f7c8e1bb",
   "metadata": {
    "lines_to_next_cell": 0,
    "tags": [
     "empty-cell"
    ]
   },
   "outputs": [],
   "source": [
    "# Create a professional precipitation map by:\n",
    "# 1. Setting up the plot configuration\n",
    "# 2. Displaying the interpolated precipitation as a color map\n",
    "# 3. Adding station locations as points\n",
    "# 4. Adding a colorbar and labels\n",
    "# 5. Saving the final map\n",
    "#"
   ]
  }
 ],
 "metadata": {
  "jupytext": {
   "cell_metadata_filter": "tags,-all",
   "main_language": "python",
   "notebook_metadata_filter": "-all"
  }
 },
 "nbformat": 4,
 "nbformat_minor": 5
}
