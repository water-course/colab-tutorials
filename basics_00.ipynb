{
 "cells": [
  {
   "cell_type": "markdown",
   "id": "a0c9a1d0",
   "metadata": {},
   "source": [
    "Exercises: Introduction to Python for Scientific Analysis\n",
    "=====\n",
    "\n",
    "This exercise introduces some core Python programming concepts:\n",
    "- Importing useful libraries\n",
    "- Performing basic mathematical operations\n",
    "- Writing for-loops\n",
    "- Creating a simple map using Cartopy\n",
    "\n",
    "By the end of this activity, you should be comfortable with basic syntax and plotting capabilities for spatial data."
   ]
  },
  {
   "cell_type": "markdown",
   "id": "bcc00945",
   "metadata": {},
   "source": [
    "### 1. Importing Python Libraries\n",
    "\n",
    "Python uses **libraries** (also called *packages*) to extend its capabilities. Rather than writing every function from scratch, we import code written by others.\n",
    "\n",
    "In this example:\n",
    "- `numpy` is used for maths (like cosine or exponents)\n",
    "- `matplotlib.pyplot` is used for plotting graphs\n",
    "- `cartopy.crs` is used to create geospatial map projections\n",
    "\n",
    "These are imported using the `import` keyword."
   ]
  },
  {
   "cell_type": "code",
   "execution_count": null,
   "id": "073ce890",
   "metadata": {
    "tags": [
     "empty-cell"
    ]
   },
   "outputs": [],
   "source": [
    "# Import the required libraries\n",
    "# import numpy as np\n",
    "# import matplotlib.pyplot as plt\n",
    "# import cartopy.crs as ccrs"
   ]
  },
  {
   "cell_type": "markdown",
   "id": "1a047c43",
   "metadata": {},
   "source": [
    "### 2. Basic Mathematical Operations\n",
    "\n",
    "Python can perform mathematical operations like addition, multiplication, and exponents. You can assign values to variables using `=`, then reuse them in expressions.\n",
    "\n",
    "Let's define a variable `x`, and compute a simple linear equation `y = 2x + 1`."
   ]
  },
  {
   "cell_type": "code",
   "execution_count": null,
   "id": "ee660833",
   "metadata": {
    "tags": [
     "empty-cell"
    ]
   },
   "outputs": [],
   "source": [
    "# Define x\n",
    "# Compute y using a linear expression\n",
    "# Print the result"
   ]
  },
  {
   "cell_type": "markdown",
   "id": "ee68ca62",
   "metadata": {},
   "source": [
    "You can continue calculations using existing variables. Python follows the usual order of operations (e.g., `**` for exponents, `/` for division)."
   ]
  },
  {
   "cell_type": "code",
   "execution_count": null,
   "id": "bedf522c",
   "metadata": {
    "tags": [
     "empty-cell"
    ]
   },
   "outputs": [],
   "source": [
    "# Modify y by adding x squared and dividing by 10\n",
    "# Print the result"
   ]
  },
  {
   "cell_type": "markdown",
   "id": "25ad399f",
   "metadata": {},
   "source": [
    "### 3. Formatted Output\n",
    "\n",
    "Python allows you to format numbers when printing them. For example, `%7.2f` formats a number as:\n",
    "- 7 characters wide\n",
    "- 2 digits after the decimal point\n",
    "\n",
    "This is useful when printing aligned tables or controlling decimal precision in scientific output."
   ]
  },
  {
   "cell_type": "code",
   "execution_count": null,
   "id": "931e7c24",
   "metadata": {
    "tags": [
     "empty-cell"
    ]
   },
   "outputs": [],
   "source": [
    "# Format y with 2 decimal places using % formatting"
   ]
  },
  {
   "cell_type": "markdown",
   "id": "4a8cb198",
   "metadata": {},
   "source": [
    "### 4. For Loops\n",
    "\n",
    "A `for` loop repeats a block of code multiple times. The syntax is:\n",
    "\n",
    "```python\n",
    "for i in range(n):\n",
    "    # do something\n",
    "```\n",
    "\n",
    "`range(5)` generates numbers from 0 to 4. In each loop, you can perform calculations, print results, or update counters."
   ]
  },
  {
   "cell_type": "code",
   "execution_count": null,
   "id": "2caf49b1",
   "metadata": {
    "tags": [
     "empty-cell"
    ]
   },
   "outputs": [],
   "source": [
    "# Write a for-loop that:\n",
    "# - Iterates 5 times\n",
    "# - Prints i and cos(pi + i * 10)\n",
    "# - Increments a counter\n",
    "# After the loop, print the final counter value"
   ]
  },
  {
   "cell_type": "markdown",
   "id": "543af079",
   "metadata": {},
   "source": [
    "### 5. Map Plotting with Cartopy\n",
    "\n",
    "Cartopy is a mapping library that allows you to create geographic visualisations. It supports many **map projections** — ways to represent the Earth's curved surface on a 2D plot.\n",
    "\n",
    "A simple starting point is `PlateCarree`, which uses latitude and longitude directly. Below, we create a map and plot coastlines."
   ]
  },
  {
   "cell_type": "code",
   "execution_count": null,
   "id": "78be4046",
   "metadata": {
    "tags": [
     "empty-cell"
    ]
   },
   "outputs": [],
   "source": [
    "# Create a basic map using Cartopy:\n",
    "# - Use PlateCarree projection\n",
    "# - Add coastlines\n",
    "# - Set a title"
   ]
  },
  {
   "cell_type": "markdown",
   "id": "1687c1f6",
   "metadata": {},
   "source": [
    "### Summary\n",
    "\n",
    "This notebook introduced:\n",
    "- Importing external libraries for maths and plotting\n",
    "- Variable assignment and mathematical expressions\n",
    "- Output formatting using `%` styles\n",
    "- `for` loops for iteration\n",
    "- Creating a simple map using `cartopy`\n",
    "\n",
    "These concepts are foundational for data analysis and spatial visualisation in Python. In future tutorials, we'll build on them to handle data files, automate workflows, and create more advanced maps."
   ]
  }
 ],
 "metadata": {
  "jupytext": {
   "cell_metadata_filter": "tags,-all",
   "main_language": "python",
   "notebook_metadata_filter": "-all"
  }
 },
 "nbformat": 4,
 "nbformat_minor": 5
}
